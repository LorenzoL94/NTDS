{
 "cells": [
  {
   "cell_type": "markdown",
   "metadata": {},
   "source": [
    "# Network Tour project"
   ]
  },
  {
   "cell_type": "markdown",
   "metadata": {},
   "source": [
    "This is a notebook to describe the connections between artists and users."
   ]
  },
  {
   "cell_type": "markdown",
   "metadata": {},
   "source": [
    "## Analysis on data"
   ]
  },
  {
   "cell_type": "code",
   "execution_count": null,
   "metadata": {
    "collapsed": true
   },
   "outputs": [],
   "source": [
    "import numpy as np\n",
    "import matplotlib.pyplot as plt\n",
    "import scipy as sci\n",
    "import pandas as pd\n",
    "import os.path\n",
    "import networkx as nx\n",
    "import scipy.sparse as sp\n",
    "import sklearn as skl\n",
    "import pygsp as gsp\n",
    "import copy\n",
    "from Dataset import Dataset\n",
    "%matplotlib inline\n",
    "from plotly.graph_objs import *"
   ]
  },
  {
   "cell_type": "markdown",
   "metadata": {},
   "source": [
    "Loading the artists information, user/friend connections, and user/artist listening count."
   ]
  },
  {
   "cell_type": "code",
   "execution_count": null,
   "metadata": {
    "collapsed": true
   },
   "outputs": [],
   "source": [
    "# Define paths of the files\n",
    "data_folder = os.path.join('.','data')\n",
    "artists_path = os.path.join(data_folder,'artists.dat')\n",
    "ratings_path = os.path.join(data_folder,'user_artists.dat')\n",
    "tags_path = os.path.join(data_folder,'tags.dat')\n",
    "tags_assign_path = os.path.join(data_folder,'user_taggedartists-timestamps.dat')\n",
    "friendship_path = os.path.join(data_folder, 'user_friends.dat')"
   ]
  },
  {
   "cell_type": "code",
   "execution_count": null,
   "metadata": {
    "collapsed": true
   },
   "outputs": [],
   "source": [
    "artists_df = pd.read_csv(artists_path, sep='\\t', header=0,index_col=0, skipinitialspace=True)\n",
    "user_artist = pd.read_csv(ratings_path, sep='\\t', header=0, skipinitialspace=True)\n",
    "user_user = pd.read_csv(friendship_path, sep='\\t', header=0,  skipinitialspace=True)"
   ]
  },
  {
   "cell_type": "code",
   "execution_count": null,
   "metadata": {},
   "outputs": [],
   "source": [
    "artists_df.head()"
   ]
  },
  {
   "cell_type": "code",
   "execution_count": null,
   "metadata": {},
   "outputs": [],
   "source": [
    "artists_df.isnull().sum()"
   ]
  },
  {
   "cell_type": "code",
   "execution_count": null,
   "metadata": {},
   "outputs": [],
   "source": [
    "print(\"Are the artists names unique?\" ,artists_df['name'].is_unique)\n",
    "print(\"Number of artists in the dataset:\", len(artists_df))"
   ]
  },
  {
   "cell_type": "code",
   "execution_count": null,
   "metadata": {},
   "outputs": [],
   "source": [
    "user_artist.head()"
   ]
  },
  {
   "cell_type": "code",
   "execution_count": null,
   "metadata": {},
   "outputs": [],
   "source": [
    "user_artist.isnull().sum()"
   ]
  },
  {
   "cell_type": "code",
   "execution_count": null,
   "metadata": {},
   "outputs": [],
   "source": [
    "user_user.head()"
   ]
  },
  {
   "cell_type": "code",
   "execution_count": null,
   "metadata": {},
   "outputs": [],
   "source": [
    "user_user.isnull().sum()"
   ]
  },
  {
   "cell_type": "code",
   "execution_count": null,
   "metadata": {},
   "outputs": [],
   "source": [
    "max_user_weight = user_artist.groupby('userID').max()\n",
    "max_user_weight.describe()"
   ]
  },
  {
   "cell_type": "code",
   "execution_count": null,
   "metadata": {},
   "outputs": [],
   "source": [
    "plt.figure(num=None, figsize=(12, 6), dpi=80, facecolor='w', edgecolor='k')\n",
    "max_user_weight['weight'].plot.hist(bins=30)"
   ]
  },
  {
   "cell_type": "markdown",
   "metadata": {},
   "source": [
    "We can see from the plot above that most of the users have a maximum listening count of less than 50,000."
   ]
  },
  {
   "cell_type": "code",
   "execution_count": null,
   "metadata": {},
   "outputs": [],
   "source": [
    "print(\"The number of users with less than a maximum of 50,000 listening count:\",\\\n",
    "      len(max_user_weight.loc[max_user_weight['weight']<=50000]))\n",
    "percentage = len(max_user_weight.loc[max_user_weight['weight']<=50000])/ len(max_user_weight)*100\n",
    "print(\"Percentage of total users:\", \\\n",
    "     percentage ,\"%\")"
   ]
  },
  {
   "cell_type": "code",
   "execution_count": null,
   "metadata": {},
   "outputs": [],
   "source": [
    "fig, ax = plt.subplots(nrows=1, ncols=2,figsize=(12, 6))\n",
    "plt.subplot(1, 2, 1)\n",
    "max_user_weight.boxplot(column='weight')\n",
    "plt.subplot(1,2,2)\n",
    "max_user_weight.loc[max_user_weight['weight']<=50000].boxplot(column='weight')"
   ]
  },
  {
   "cell_type": "code",
   "execution_count": null,
   "metadata": {},
   "outputs": [],
   "source": [
    "user_user.head()"
   ]
  },
  {
   "cell_type": "code",
   "execution_count": null,
   "metadata": {},
   "outputs": [],
   "source": [
    "print(\"Number of users in the dataset:\", len(set(user_user.userID.values)))\n",
    "print(\"Number of edges between users: \", int(len(user_user)/2))"
   ]
  },
  {
   "cell_type": "code",
   "execution_count": null,
   "metadata": {},
   "outputs": [],
   "source": [
    "number_user_artist = user_artist.groupby('userID').nunique().artistID.to_frame()\n",
    "plt.figure(num=None, figsize=(12, 6), dpi=80, facecolor='w', edgecolor='k')\n",
    "number_user_artist['artistID'].plot.hist(bins=10)"
   ]
  },
  {
   "cell_type": "markdown",
   "metadata": {},
   "source": [
    "We can clearly see that most of the users have between 45 and 50 artists, in fact a further analysis shows that most of those users have exactly 50 artists. To make the data more consistent, we will only use those."
   ]
  },
  {
   "cell_type": "code",
   "execution_count": null,
   "metadata": {},
   "outputs": [],
   "source": [
    "print(\"The number of users with exactly 50 artists: \",\\\n",
    "      len(number_user_artist.loc[number_user_artist['artistID']==50]))\n",
    "percentage = len(number_user_artist.loc[number_user_artist['artistID']==50])/ len(number_user_artist)*100\n",
    "print(\"Percentage of those users:\", \\\n",
    "     percentage ,\"%\")"
   ]
  },
  {
   "cell_type": "markdown",
   "metadata": {},
   "source": [
    "Number of connections of each artist."
   ]
  },
  {
   "cell_type": "code",
   "execution_count": null,
   "metadata": {},
   "outputs": [],
   "source": [
    "number_artist_user = user_artist.groupby('artistID').nunique().userID.to_frame()\n",
    "plt.figure(num=None, figsize=(12, 6), dpi=80, facecolor='w', edgecolor='k')\n",
    "number_artist_user['userID'].plot.hist(bins=30)"
   ]
  },
  {
   "cell_type": "code",
   "execution_count": null,
   "metadata": {},
   "outputs": [],
   "source": [
    "print(\"The number of artists in the dataset: \", len(number_artist_user))\n",
    "print(\"The number of artists with less than 50 user connections:\", \\\n",
    "      len(number_artist_user[number_artist_user['userID']<50]))\n",
    "percentage = len(number_artist_user[number_artist_user['userID']<50]) / len(number_artist_user) *100\n",
    "print(\"Percentage of those artists :\", \\\n",
    "     percentage ,\"%\")"
   ]
  },
  {
   "cell_type": "code",
   "execution_count": null,
   "metadata": {},
   "outputs": [],
   "source": [
    "fig, ax = plt.subplots(nrows=1, ncols=2,figsize=(12, 6))\n",
    "plt.subplot(1, 2, 1)\n",
    "number_artist_user.boxplot(column='userID')\n",
    "plt.subplot(1,2,2)\n",
    "number_artist_user.loc[number_artist_user['userID']<=50].boxplot(column='userID')"
   ]
  },
  {
   "cell_type": "code",
   "execution_count": null,
   "metadata": {},
   "outputs": [],
   "source": [
    "len(number_artist_user.loc[number_artist_user['userID']==1])"
   ]
  },
  {
   "cell_type": "code",
   "execution_count": null,
   "metadata": {
    "collapsed": true
   },
   "outputs": [],
   "source": [
    "user_user_group = user_user.groupby('userID').nunique().friendID.to_frame()"
   ]
  },
  {
   "cell_type": "markdown",
   "metadata": {},
   "source": [
    "Distribution of the number of friends each user have."
   ]
  },
  {
   "cell_type": "code",
   "execution_count": null,
   "metadata": {},
   "outputs": [],
   "source": [
    "plt.figure(num=None, figsize=(12, 6), dpi=80, facecolor='w', edgecolor='k')\n",
    "user_user_group['friendID'].plot.hist(bins=20)"
   ]
  },
  {
   "cell_type": "code",
   "execution_count": null,
   "metadata": {},
   "outputs": [],
   "source": [
    "users_to_drop = set()\n",
    "\n",
    "# Group ratings based on users\n",
    "group = user_artist.groupby('userID')\n",
    "\n",
    "# Drop users with too high max weight (looking at the distribution\n",
    "# they seems to be outliers)\n",
    "data = group.max()\n",
    "users_to_drop.update(data[data.weight > 50000].index)\n",
    "\n",
    "# Drop users with few artists\n",
    "data = group.nunique().artistID\n",
    "users_to_drop.update(data[data < 49].index)\n",
    "\n",
    "print(len(users_to_drop), ' users dropped')"
   ]
  },
  {
   "cell_type": "code",
   "execution_count": null,
   "metadata": {},
   "outputs": [],
   "source": [
    "user_artist_ref = user_artist[~user_artist.userID.isin(users_to_drop)]\n",
    "user_user_ref = user_user[~user_user.userID.isin((users_to_drop))]\n",
    "user_user_ref = user_user_ref[~user_user_ref.friendID.isin(users_to_drop)]\n",
    "\n",
    "first_users = set(user_user_ref.userID.values)\n",
    "users_in_artists = set(user_artist_ref.userID.values)\n",
    "difference_in_users = list(users_in_artists - first_users)\n",
    "\n",
    "print(\"Number of users not in our user network:\", len(difference_in_users))\n",
    "\n",
    "user_artist_ref = user_artist_ref[~user_artist_ref.userID.isin(difference_in_users)]\n",
    "user_user_ref = user_user_ref[~user_user_ref.userID.isin((difference_in_users))]\n",
    "user_user_ref = user_user_ref[~user_user_ref.friendID.isin(difference_in_users)]\n",
    "\n",
    "# Update ID translator dictionaries\n",
    "userID2POS = {i:p for p,i in enumerate(set(user_artist_ref.userID))}\n",
    "userPOS2ID = {p:i for p,i in enumerate(set(user_artist_ref.userID))}"
   ]
  },
  {
   "cell_type": "code",
   "execution_count": null,
   "metadata": {},
   "outputs": [],
   "source": [
    "len(user_artist_ref)"
   ]
  },
  {
   "cell_type": "code",
   "execution_count": null,
   "metadata": {},
   "outputs": [],
   "source": [
    "len(user_artist)"
   ]
  },
  {
   "cell_type": "code",
   "execution_count": null,
   "metadata": {},
   "outputs": [],
   "source": [
    "len(user_user)"
   ]
  },
  {
   "cell_type": "code",
   "execution_count": null,
   "metadata": {},
   "outputs": [],
   "source": [
    "len(userID2POS)"
   ]
  },
  {
   "cell_type": "code",
   "execution_count": null,
   "metadata": {
    "collapsed": true
   },
   "outputs": [],
   "source": [
    "graph = nx.Graph()"
   ]
  },
  {
   "cell_type": "code",
   "execution_count": null,
   "metadata": {
    "collapsed": true
   },
   "outputs": [],
   "source": [
    "friend_friend = np.zeros((len(userID2POS),len(userID2POS)))\n",
    "for index, row in user_user_ref.iterrows():\n",
    "    upos1 = userID2POS[row.userID]\n",
    "    upos2 = userID2POS[row.friendID]\n",
    "    friend_friend[upos1,upos2] = 1\n",
    "    graph.add_edge(upos1, upos2, weight=1)"
   ]
  },
  {
   "cell_type": "code",
   "execution_count": null,
   "metadata": {},
   "outputs": [],
   "source": [
    "len(user_user_ref)/2"
   ]
  },
  {
   "cell_type": "code",
   "execution_count": null,
   "metadata": {},
   "outputs": [],
   "source": [
    "sum(sum(i > 0 for i in friend_friend))/2"
   ]
  },
  {
   "cell_type": "code",
   "execution_count": null,
   "metadata": {
    "collapsed": true
   },
   "outputs": [],
   "source": [
    "# generates a lists of stubs that correspond to the current degree_distribution\n",
    "def generate_stubs(g):\n",
    "    \"\"\"Generates lists of stubs containing `d` stubs for each node, where `d` is the degree of the node.\"\"\"\n",
    "    stubs_array = np.array([], dtype=np.int32)\n",
    "    # adds num_of_stubs stubs for every node index according to its degree \n",
    "    index_degree_pairs = sorted(list(dict(nx.degree(g)).items()), key=lambda x: x[0])\n",
    "    for ind, num_stubs in index_degree_pairs:\n",
    "        if num_stubs != 0:\n",
    "            stubs_array = np.append(stubs_array, ([ind]*num_stubs))\n",
    "    np.random.shuffle(stubs_array)\n",
    "    return stubs_array\n",
    "\n",
    "def get_max_pair(pairs):\n",
    "    \"\"\"Returns the index-degree pair, corresponding to the element with at most stubs.\"\"\"\n",
    "    pair = sorted(pairs, key=lambda x: x[1], reverse=True)[0]\n",
    "    if pair[1] == 0:\n",
    "        return None\n",
    "    return pair\n",
    "\n",
    "def greedy_configuration(g):\n",
    "    \"\"\"Generates a random graph with degree distribution as close as possible to the graph passed as \n",
    "    argument to the function.\"\"\"\n",
    "    stubs = generate_stubs(g)\n",
    "    graph = nx.empty_graph()\n",
    "    pairs = dict(nx.degree(g)) # index-degree pairs\n",
    "    highest = get_max_pair(list(pairs.items()))\n",
    "\n",
    "    # Used to keep up with the number of processed stubs in every moment\n",
    "    total = sum([p[1] for p in list(pairs.items())])/2 \n",
    "    processed = 0\n",
    "\n",
    "    while highest != None:\n",
    "        source = highest[0] # the node that is the source in this itteration\n",
    "\n",
    "        # delete the stubs that correspond to the stubs of the source in order to prevent loops\n",
    "        elem_indices = np.where(stubs == source)\n",
    "        stubs = np.delete(stubs, elem_indices)\n",
    "\n",
    "        # break if you have no stubs to connect to except the ones that create self loops\n",
    "        if len(stubs) == 0:\n",
    "            print(\"Breaking in advance to prevent self-loops\")\n",
    "            print(\"Only stubs of node %d left\" % source)\n",
    "            break\n",
    "\n",
    "        stubs_left = highest[1]\n",
    "\n",
    "        while stubs_left != 0: # loop until you use all of the source stubs\n",
    "            if len(stubs) == 0: # break if no stubs to connect to are left\n",
    "                print(\"Breaking while processing to prevent self-loops\")\n",
    "                print(\"Only stubs of node %d left\" % source)\n",
    "                break\n",
    "\n",
    "            # choose a random stub connect it to the source and remove it from the list of stubs\n",
    "            target_index = np.random.choice(len(stubs))\n",
    "            target = stubs[target_index]\n",
    "\n",
    "            if graph.has_edge(source, target):\n",
    "                elem_indices = np.where(stubs == target)\n",
    "                if len(np.delete(stubs, elem_indices)) == 0:\n",
    "                    print(\"Breaking while processing to prevent self-loops\")\n",
    "                    print(\"Only stubs of node %d and node %s left\" % (source, target))\n",
    "                    pairs[source] = -pairs[source]\n",
    "                    break\n",
    "                else:\n",
    "                    continue\n",
    "            else:\n",
    "                graph.add_edge(source, target, weight = np.random.rand())\n",
    "\n",
    "            stubs = np.delete(stubs, target_index)\n",
    "            pairs[target] = pairs[target] - 1\n",
    "            pairs[source] = pairs[source] - 1\n",
    "\n",
    "            stubs_left = stubs_left - 1\n",
    "\n",
    "        # Used to keep up with the number of processed stubs in every moment\n",
    "        processed = processed + highest[1] - stubs_left\n",
    "        #print(\"Processed %d / %d\" % (processed, total))\n",
    "\n",
    "        highest = get_max_pair(list(pairs.items()))\n",
    "    return (graph, pairs)"
   ]
  },
  {
   "cell_type": "code",
   "execution_count": null,
   "metadata": {
    "collapsed": true
   },
   "outputs": [],
   "source": [
    "random_graph, pairs = greedy_configuration(graph)"
   ]
  },
  {
   "cell_type": "code",
   "execution_count": null,
   "metadata": {},
   "outputs": [],
   "source": [
    "sum(pairs.values()) # should be non-zero if no stubs remained unmatched"
   ]
  },
  {
   "cell_type": "code",
   "execution_count": null,
   "metadata": {},
   "outputs": [],
   "source": [
    "total = 0\n",
    "\n",
    "non_existing = 0\n",
    "existing = 0\n",
    "for node_one, node_two, weight in graph.edges(data='weight'):\n",
    "    if random_graph.has_edge(node_one, node_two):\n",
    "        weight_random = random_graph.get_edge_data(node_one, node_two)['weight']\n",
    "        existing = existing + 1\n",
    "        total = total + weight - weight_random\n",
    "    else:\n",
    "        non_existing = non_existing + weight\n",
    "        total = total + weight"
   ]
  },
  {
   "cell_type": "code",
   "execution_count": null,
   "metadata": {},
   "outputs": [],
   "source": [
    "existing, non_existing, total"
   ]
  },
  {
   "cell_type": "code",
   "execution_count": null,
   "metadata": {
    "collapsed": true
   },
   "outputs": [],
   "source": [
    "# Helper used for testing\n",
    "def sample_graph_bfs(G, sample_size, source_node):\n",
    "    visited = set()\n",
    "    queue = []\n",
    "    queue.append(source_node)\n",
    "\n",
    "    while (len(queue) != 0) and (len(visited) < sample_size):\n",
    "        curr_node = queue.pop(0)\n",
    "        if curr_node in visited:\n",
    "            continue\n",
    "        visited.add(curr_node)\n",
    "        neighbors = G.neighbors(curr_node)\n",
    "        queue = queue + list(neighbors)\n",
    "    return copy.deepcopy(G.subgraph(visited))"
   ]
  }
 ],
 "metadata": {
  "kernelspec": {
   "display_name": "Python 3",
   "language": "python",
   "name": "python3"
  },
  "language_info": {
   "codemirror_mode": {
    "name": "ipython",
    "version": 3
   },
   "file_extension": ".py",
   "mimetype": "text/x-python",
   "name": "python",
   "nbconvert_exporter": "python",
   "pygments_lexer": "ipython3",
   "version": "3.6.3"
  }
 },
 "nbformat": 4,
 "nbformat_minor": 2
}
