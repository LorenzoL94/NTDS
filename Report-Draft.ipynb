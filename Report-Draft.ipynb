{
 "cells": [
  {
   "cell_type": "markdown",
   "metadata": {},
   "source": [
    "# 1. Introduction and General Information\n",
    "\n",
    "In this project, we analyze the LastFM dataset released in the framework of HetRec 2011 (http://ir.ii.uam.es/hetrec2011). This dataset contains an underlying social network, artists tags given by users, and user-artist listening count from a set of 1892 users and 17632 artists. Different type of files are given, describing the interactions between user-user, user-artist and tags. Our aim is to test whether friendship implies similar taste in music, in other words whether friends do tend to listen to the same music. \n",
    "\n",
    "We approach the problem in two different ways:\n",
    "- We construst a network based on the similarity between artists and from it we try to infer user-user connections.\n",
    "- We build a recommender system based on only the listening counts and then try to improve it using the underlying friendship network or the artist-artist similarity network."
   ]
  },
  {
   "cell_type": "code",
   "execution_count": 32,
   "metadata": {},
   "outputs": [
    {
     "name": "stdout",
     "output_type": "stream",
     "text": [
      "The autoreload extension is already loaded. To reload it, use:\n",
      "  %reload_ext autoreload\n"
     ]
    }
   ],
   "source": [
    "%load_ext autoreload\n",
    "%autoreload 1\n",
    "\n",
    "import numpy as np\n",
    "import matplotlib.pyplot as plt\n",
    "import scipy as sp\n",
    "import pandas as pd\n",
    "import os.path\n",
    "import networkx as nx\n",
    "from scipy.sparse import csr_matrix\n",
    "from Dataset import Dataset\n",
    "from plots import *\n",
    "import os\n",
    "from helpers import *\n",
    "%matplotlib inline"
   ]
  },
  {
   "cell_type": "markdown",
   "metadata": {},
   "source": [
    "# Data Exploration\n",
    "\n",
    "In this section we analyze our dataset that has the following structure: for each user there is a list of his/her favorite artists, each listened artist has a listening record denoting the listening times; for each artist there is a list of his/her genre, which is a list of tags given by users that have listened to the artist. In addition we have for each user a list of his friends.\n",
    "\n",
    "The goal is to show the initial insights and the motivation, but the final processing is contained in the Dataset module whos' functions are called in each section to produce the dataset that is used throughout the notebook."
   ]
  },
  {
   "cell_type": "code",
   "execution_count": 2,
   "metadata": {},
   "outputs": [],
   "source": [
    "# Loading the data\n",
    "data = Dataset()\n",
    "data_folder = os.path.join('.','data')\n",
    "ratings_path = os.path.join(data_folder,'user_artists.dat')\n",
    "ratings = pd.read_csv(ratings_path, sep='\\t', header=0, skipinitialspace=True)"
   ]
  },
  {
   "cell_type": "code",
   "execution_count": 3,
   "metadata": {},
   "outputs": [
    {
     "data": {
      "text/html": [
       "<div>\n",
       "<style>\n",
       "    .dataframe thead tr:only-child th {\n",
       "        text-align: right;\n",
       "    }\n",
       "\n",
       "    .dataframe thead th {\n",
       "        text-align: left;\n",
       "    }\n",
       "\n",
       "    .dataframe tbody tr th {\n",
       "        vertical-align: top;\n",
       "    }\n",
       "</style>\n",
       "<table border=\"1\" class=\"dataframe\">\n",
       "  <thead>\n",
       "    <tr style=\"text-align: right;\">\n",
       "      <th></th>\n",
       "      <th>name</th>\n",
       "      <th>url</th>\n",
       "      <th>pictureURL</th>\n",
       "    </tr>\n",
       "    <tr>\n",
       "      <th>id</th>\n",
       "      <th></th>\n",
       "      <th></th>\n",
       "      <th></th>\n",
       "    </tr>\n",
       "  </thead>\n",
       "  <tbody>\n",
       "    <tr>\n",
       "      <th>1</th>\n",
       "      <td>MALICE MIZER</td>\n",
       "      <td>http://www.last.fm/music/MALICE+MIZER</td>\n",
       "      <td>http://userserve-ak.last.fm/serve/252/10808.jpg</td>\n",
       "    </tr>\n",
       "    <tr>\n",
       "      <th>2</th>\n",
       "      <td>Diary of Dreams</td>\n",
       "      <td>http://www.last.fm/music/Diary+of+Dreams</td>\n",
       "      <td>http://userserve-ak.last.fm/serve/252/3052066.jpg</td>\n",
       "    </tr>\n",
       "    <tr>\n",
       "      <th>3</th>\n",
       "      <td>Carpathian Forest</td>\n",
       "      <td>http://www.last.fm/music/Carpathian+Forest</td>\n",
       "      <td>http://userserve-ak.last.fm/serve/252/40222717...</td>\n",
       "    </tr>\n",
       "    <tr>\n",
       "      <th>4</th>\n",
       "      <td>Moi dix Mois</td>\n",
       "      <td>http://www.last.fm/music/Moi+dix+Mois</td>\n",
       "      <td>http://userserve-ak.last.fm/serve/252/54697835...</td>\n",
       "    </tr>\n",
       "    <tr>\n",
       "      <th>5</th>\n",
       "      <td>Bella Morte</td>\n",
       "      <td>http://www.last.fm/music/Bella+Morte</td>\n",
       "      <td>http://userserve-ak.last.fm/serve/252/14789013...</td>\n",
       "    </tr>\n",
       "  </tbody>\n",
       "</table>\n",
       "</div>"
      ],
      "text/plain": [
       "                 name                                         url  \\\n",
       "id                                                                  \n",
       "1        MALICE MIZER       http://www.last.fm/music/MALICE+MIZER   \n",
       "2     Diary of Dreams    http://www.last.fm/music/Diary+of+Dreams   \n",
       "3   Carpathian Forest  http://www.last.fm/music/Carpathian+Forest   \n",
       "4        Moi dix Mois       http://www.last.fm/music/Moi+dix+Mois   \n",
       "5         Bella Morte        http://www.last.fm/music/Bella+Morte   \n",
       "\n",
       "                                           pictureURL  \n",
       "id                                                     \n",
       "1     http://userserve-ak.last.fm/serve/252/10808.jpg  \n",
       "2   http://userserve-ak.last.fm/serve/252/3052066.jpg  \n",
       "3   http://userserve-ak.last.fm/serve/252/40222717...  \n",
       "4   http://userserve-ak.last.fm/serve/252/54697835...  \n",
       "5   http://userserve-ak.last.fm/serve/252/14789013...  "
      ]
     },
     "execution_count": 3,
     "metadata": {},
     "output_type": "execute_result"
    }
   ],
   "source": [
    "data.artists.head()"
   ]
  },
  {
   "cell_type": "markdown",
   "metadata": {},
   "source": [
    "### Tag analysis"
   ]
  },
  {
   "cell_type": "code",
   "execution_count": 4,
   "metadata": {
    "scrolled": false
   },
   "outputs": [
    {
     "data": {
      "image/png": "[encoded data removed]",
      "text/plain": [
       "<matplotlib.figure.Figure at 0x7f026679b048>"
      ]
     },
     "metadata": {},
     "output_type": "display_data"
    }
   ],
   "source": [
    "group = data.tags_assign[['artistID','tagID']].groupby(['artistID'])\n",
    "\n",
    "group = group.size()\n",
    "group.sort_values(ascending=False,inplace=True)\n",
    "\n",
    "plot_tags_statistics(group)"
   ]
  },
  {
   "cell_type": "code",
   "execution_count": 5,
   "metadata": {},
   "outputs": [
    {
     "data": {
      "image/png": "[encoded data removed]",
      "text/plain": [
       "<matplotlib.figure.Figure at 0x7f0246024780>"
      ]
     },
     "metadata": {},
     "output_type": "display_data"
    }
   ],
   "source": [
    "small = group.loc[group<5]\n",
    "big = group.loc[group>5]\n",
    "\n",
    "plot_separate_small_artist(small, big)"
   ]
  },
  {
   "cell_type": "markdown",
   "metadata": {},
   "source": [
    "It can be observed that there are no artists with zero tags and most of the artists have more than 5 tags."
   ]
  },
  {
   "cell_type": "code",
   "execution_count": 6,
   "metadata": {},
   "outputs": [
    {
     "data": {
      "image/png": "[encoded data removed]",
      "text/plain": [
       "<matplotlib.figure.Figure at 0x7f02467cd978>"
      ]
     },
     "metadata": {},
     "output_type": "display_data"
    }
   ],
   "source": [
    "group = data.tags_assign[['artistID','tagID']].groupby(['artistID'])\n",
    "\n",
    "group = group.nunique().tagID.sort_values(ascending=False)\n",
    "\n",
    "plot_unique_tags(group)"
   ]
  },
  {
   "cell_type": "markdown",
   "metadata": {},
   "source": [
    "From the above plot we can observe that for each artist we have a certain number of different tags but since LastFM tags are freeform a part of them can have the same meaning while written in different form, e.g., 90 -> 90' -> 90s or can have meaning that is identifiable only by the user itself."
   ]
  },
  {
   "cell_type": "markdown",
   "metadata": {},
   "source": [
    "### Listening count analysis"
   ]
  },
  {
   "cell_type": "code",
   "execution_count": 7,
   "metadata": {},
   "outputs": [
    {
     "data": {
      "image/png": "[encoded data removed]",
      "text/plain": [
       "<matplotlib.figure.Figure at 0x7f02467fe4e0>"
      ]
     },
     "metadata": {},
     "output_type": "display_data"
    }
   ],
   "source": [
    "max_user_weight = data.ratings.groupby('userID').max()\n",
    "\n",
    "plot_listenig_count_frequency(max_user_weight)"
   ]
  },
  {
   "cell_type": "code",
   "execution_count": 8,
   "metadata": {},
   "outputs": [
    {
     "data": {
      "image/png": "[encoded data removed]",
      "text/plain": [
       "<matplotlib.figure.Figure at 0x7f0245ea2940>"
      ]
     },
     "metadata": {},
     "output_type": "display_data"
    }
   ],
   "source": [
    "max_user_weight = data.ratings.groupby('userID').max()\n",
    "fig, ax = plt.subplots(nrows=1, ncols=2,figsize=(12, 6))\n",
    "plt.subplot(1, 2, 1)\n",
    "max_user_weight.boxplot(column='weight')\n",
    "plt.subplot(1,2,2)\n",
    "max_user_weight.loc[max_user_weight['weight']<=50000].boxplot(column='weight');"
   ]
  },
  {
   "cell_type": "markdown",
   "metadata": {},
   "source": [
    "We can see from the plot above that most of the users have a maximum listening count of less than 50,000, while some of them are significantly higher. Observing such high listening counts for 1 artist seems highly unprobable and such activity looks suspicious, possibly motivated by commercial purposes, hence excluded."
   ]
  },
  {
   "cell_type": "code",
   "execution_count": 9,
   "metadata": {},
   "outputs": [
    {
     "name": "stdout",
     "output_type": "stream",
     "text": [
      "The number of users with less than a maximum of 50,000 listening count: 1827\n",
      "Percentage of total users: 96.87168610816543 %\n"
     ]
    }
   ],
   "source": [
    "print(\"The number of users with less than a maximum of 50,000 listening count:\",\\\n",
    "      len(max_user_weight.loc[max_user_weight['weight']<=50000]))\n",
    "\n",
    "percentage = len(max_user_weight.loc[max_user_weight['weight']<=50000])/ len(max_user_weight)*100\n",
    "print(\"Percentage of total users:\", \\\n",
    "     percentage ,\"%\")"
   ]
  },
  {
   "cell_type": "markdown",
   "metadata": {},
   "source": [
    "A function that prunes the listening counts."
   ]
  },
  {
   "cell_type": "code",
   "execution_count": 10,
   "metadata": {},
   "outputs": [
    {
     "name": "stdout",
     "output_type": "stream",
     "text": [
      "72  users dropped in weights pruning\n"
     ]
    }
   ],
   "source": [
    "data.prune_ratings()"
   ]
  },
  {
   "cell_type": "code",
   "execution_count": 11,
   "metadata": {},
   "outputs": [
    {
     "data": {
      "image/png": "[encoded data removed]",
      "text/plain": [
       "<matplotlib.figure.Figure at 0x7f0246871f60>"
      ]
     },
     "metadata": {},
     "output_type": "display_data"
    }
   ],
   "source": [
    "number_user_artist =ratings.groupby('userID').nunique().artistID.to_frame()\n",
    "\n",
    "plot_artist_per_user(number_user_artist)"
   ]
  },
  {
   "cell_type": "markdown",
   "metadata": {},
   "source": [
    "The plot shows that most of the users have around 50 artist connections. We decided to remove the users who listened to less than 10 different artists. (The motivation to keep all the users with artist connections above 10 will be shown later, since the distribution of artists changes slightly after a small reduction in the artist-artist similarity network construction.) "
   ]
  },
  {
   "cell_type": "markdown",
   "metadata": {},
   "source": [
    "### User-User network\n",
    "\n",
    "In this section we analyze the lastFm social network."
   ]
  },
  {
   "cell_type": "code",
   "execution_count": 12,
   "metadata": {},
   "outputs": [
    {
     "name": "stdout",
     "output_type": "stream",
     "text": [
      "My network has 1820 nodes.\n",
      "My network has 11218 edges.\n"
     ]
    }
   ],
   "source": [
    "#G is the total graph with all users ,except the one already pruned, and multiple component\n",
    "G = nx.Graph(data.build_friend_friend())\n",
    "\n",
    "print('My network has {} nodes.'.format(len(G.nodes())))\n",
    "print('My network has {} edges.'.format(G.size()))"
   ]
  },
  {
   "cell_type": "code",
   "execution_count": 13,
   "metadata": {},
   "outputs": [
    {
     "data": {
      "text/plain": [
       "False"
      ]
     },
     "execution_count": 13,
     "metadata": {},
     "output_type": "execute_result"
    }
   ],
   "source": [
    "nx.is_connected(G)"
   ]
  },
  {
   "cell_type": "code",
   "execution_count": 14,
   "metadata": {
    "scrolled": true
   },
   "outputs": [
    {
     "name": "stdout",
     "output_type": "stream",
     "text": [
      "Subgraph 0 has 1747 nodes\n",
      "Subgraph 1 has 7 nodes\n",
      "Subgraph 2 has 4 nodes\n",
      "Subgraph 3 has 3 nodes\n",
      "Subgraph 4 has 3 nodes\n",
      "Subgraph 5 has 3 nodes\n",
      "Subgraph 6 has 3 nodes\n",
      "Subgraph 7 has 3 nodes\n",
      "Subgraph 8 has 2 nodes\n",
      "Subgraph 9 has 2 nodes\n",
      "Subgraph 10 has 2 nodes\n",
      "Subgraph 11 has 2 nodes\n",
      "Subgraph 12 has 2 nodes\n",
      "Subgraph 13 has 2 nodes\n",
      "Subgraph 14 has 2 nodes\n",
      "Subgraph 15 has 2 nodes\n",
      "Subgraph 16 has 2 nodes\n",
      "Subgraph 17 has 2 nodes\n",
      "Subgraph 18 has 2 nodes\n",
      "Subgraph 19 has 2 nodes\n",
      "Subgraph 20 has 2 nodes\n",
      "Subgraph 21 has 1 nodes\n",
      "Subgraph 22 has 1 nodes\n",
      "Subgraph 23 has 1 nodes\n",
      "Subgraph 24 has 1 nodes\n",
      "Subgraph 25 has 1 nodes\n",
      "Subgraph 26 has 1 nodes\n",
      "Subgraph 27 has 1 nodes\n",
      "Subgraph 28 has 1 nodes\n",
      "Subgraph 29 has 1 nodes\n",
      "Subgraph 30 has 1 nodes\n",
      "Subgraph 31 has 1 nodes\n",
      "Subgraph 32 has 1 nodes\n",
      "Subgraph 33 has 1 nodes\n",
      "Subgraph 34 has 1 nodes\n",
      "Subgraph 35 has 1 nodes\n",
      "Subgraph 36 has 1 nodes\n",
      "Subgraph 37 has 1 nodes\n",
      "Subgraph 38 has 1 nodes\n",
      "Subgraph 39 has 1 nodes\n",
      "Subgraph 40 has 1 nodes\n",
      "Subgraph 41 has 1 nodes\n"
     ]
    }
   ],
   "source": [
    "connected_components = nx.connected_components(G)\n",
    "for i, subgraph in enumerate(sorted(connected_components, key = len, reverse=True)):\n",
    "    print(\"Subgraph {} has {} nodes\" .format(i, len(subgraph)))"
   ]
  },
  {
   "cell_type": "markdown",
   "metadata": {},
   "source": [
    "The User social network graph is composed of 29 disconnected subgraphs. Fortunately most of the user (~ 97.5 %) are inside one subgraph, so we can discard all the others in order to have a connected graph."
   ]
  },
  {
   "cell_type": "code",
   "execution_count": 15,
   "metadata": {},
   "outputs": [
    {
     "data": {
      "image/png": "[encoded data removed]",
      "text/plain": [
       "<matplotlib.figure.Figure at 0x7f0246eedc50>"
      ]
     },
     "metadata": {},
     "output_type": "display_data"
    }
   ],
   "source": [
    "degree_distribution(G.degree())"
   ]
  },
  {
   "cell_type": "code",
   "execution_count": 16,
   "metadata": {},
   "outputs": [
    {
     "data": {
      "image/png": "[encoded data removed]",
      "text/plain": [
       "<matplotlib.figure.Figure at 0x7f024670e710>"
      ]
     },
     "metadata": {},
     "output_type": "display_data"
    },
    {
     "name": "stdout",
     "output_type": "stream",
     "text": [
      "My network has 1747 nodes.\n",
      "My network has 11166 edges.\n"
     ]
    }
   ],
   "source": [
    "graphs = list(nx.connected_component_subgraphs(G))\n",
    "#giant component is the graph which contains most of the users\n",
    "giant_component = graphs[0]\n",
    "\n",
    "degree_distribution(giant_component.degree())\n",
    "\n",
    "print('My network has {} nodes.'.format(len(giant_component.nodes())))\n",
    "print('My network has {} edges.'.format(giant_component.size()))"
   ]
  },
  {
   "cell_type": "markdown",
   "metadata": {},
   "source": [
    "As we can observe the degree distribution is mostly unchanged, we only have a little decrease of the number of user with very small connections since the subgraphs we deleted were composed of few users. The function below updates the dataset by reducing the dataset to its largest connected component."
   ]
  },
  {
   "cell_type": "code",
   "execution_count": 17,
   "metadata": {},
   "outputs": [
    {
     "name": "stdout",
     "output_type": "stream",
     "text": [
      "73  users dropped in friendship pruning\n"
     ]
    }
   ],
   "source": [
    "data.prune_friends()"
   ]
  },
  {
   "cell_type": "markdown",
   "metadata": {},
   "source": [
    "### Weight Normalization\n",
    "We need to build a similarity graph for collaborative filtering. We need to understand which artists users listen to and not necessarely how much. Even though taking into account the absolute value of listening counts could have been a measure of how much we can trust a user preferences, we decided to normalize separately for each user in order to keep the weights simple and clear. In particular we model the normalized weight as the ratio the listening count and the biggest listening count for each user. Thus, all the weights of a user are less or equal to 1."
   ]
  },
  {
   "cell_type": "code",
   "execution_count": 18,
   "metadata": {
    "collapsed": true
   },
   "outputs": [],
   "source": [
    "data.normalize_weights()"
   ]
  },
  {
   "cell_type": "code",
   "execution_count": 19,
   "metadata": {},
   "outputs": [
    {
     "data": {
      "image/png": "[encoded data removed]",
      "text/plain": [
       "<matplotlib.figure.Figure at 0x7f02421fe470>"
      ]
     },
     "metadata": {},
     "output_type": "display_data"
    }
   ],
   "source": [
    "# Plot distribution of weights for a random user\n",
    "user_weight_distribution(data.ratings, seed=1)"
   ]
  },
  {
   "cell_type": "markdown",
   "metadata": {},
   "source": [
    "# 1. Friendship inference from music taste"
   ]
  },
  {
   "cell_type": "markdown",
   "metadata": {},
   "source": [
    "These are the steps we followed to build the user-user comparison network:\n",
    "* Construct an artist similarity graph and connect the users to artists using the normalized listening count.\n",
    "\n",
    "\n",
    "* For each user consider all the possible direct paths  $u_i \\rightarrow a_k \\rightarrow u_j$ and 3-hop paths $u_i \\rightarrow a_k \\rightarrow a_l \\rightarrow u_j$ where the $u_i \\rightarrow a_k$ and $a_l \\rightarrow u_j$ are weighted with the respective normalized weight (call them $C_{ik}$ and $C_{jl}$) while the weight between the two artists represents the strength of the similarity taken from the constructed similiraty graph (call it $S_{kl}$).\n",
    "\n",
    "\n",
    "* Add an edge between each pair $u_i$ and $u_j$ with a weight equal to: $F_{ij} = \\sum\\limits_{k,l \\in \\Omega} S_{kl}\\min\\{C_{ik}, C_{jl}\\} + \\sum\\limits_{k \\in \\Theta}\\min\\{C_{ik}, C_{jk}\\}$ where $\\Omega$ is the set of all artists that are similar to each other out of which one is connected to i and one is connected to j, and  $\\Theta$ is the set of all artists that are connected to both users.\n",
    "\n",
    "\n",
    "* To inspect the connection between the taste in music (listening counts) and the friendships in the underlined network, a random network following the same degree distribution of the artist  similarity network is constructed and the user-user network generated as previously described from this random network is compared to the output generated from the meaningful artist similarity network. "
   ]
  },
  {
   "cell_type": "markdown",
   "metadata": {},
   "source": [
    "This [article](https://musicalist.hypotheses.org/236) describes the reason why LastFM enforces their tagging policy and why the tags generated in that way are a meaningful source of information.\n",
    "Since the data exploration of the tags dataset showed that all of the artists have been tagged we were motivated to use the tags assigned to each artist to infer similarity between them. Before acting, it was noticed that their api offers a function that retrieves similar artists for a given mbid unique code that identifies an artist. All the details are contained in the api notebook."
   ]
  },
  {
   "cell_type": "markdown",
   "metadata": {},
   "source": [
    "## Creating the friendship network"
   ]
  },
  {
   "cell_type": "code",
   "execution_count": 20,
   "metadata": {},
   "outputs": [
    {
     "name": "stdout",
     "output_type": "stream",
     "text": [
      "72  users dropped in weights pruning\n",
      "73  users dropped in friendship pruning\n"
     ]
    }
   ],
   "source": [
    "data = Dataset()\n",
    "data.prune_ratings()\n",
    "data.prune_friends()\n",
    "data.normalize_weights()"
   ]
  },
  {
   "cell_type": "code",
   "execution_count": 21,
   "metadata": {
    "collapsed": true
   },
   "outputs": [],
   "source": [
    "friendship = data.build_friend_friend()"
   ]
  },
  {
   "cell_type": "markdown",
   "metadata": {},
   "source": [
    "Checking symmetry of the friendship matrix."
   ]
  },
  {
   "cell_type": "code",
   "execution_count": 22,
   "metadata": {},
   "outputs": [
    {
     "data": {
      "text/plain": [
       "(array([], dtype=int64), array([], dtype=int64))"
      ]
     },
     "execution_count": 22,
     "metadata": {},
     "output_type": "execute_result"
    }
   ],
   "source": [
    "np.nonzero(friendship-friendship.transpose())"
   ]
  },
  {
   "cell_type": "code",
   "execution_count": 23,
   "metadata": {},
   "outputs": [
    {
     "data": {
      "text/plain": [
       "(1747, 1747)"
      ]
     },
     "execution_count": 23,
     "metadata": {},
     "output_type": "execute_result"
    }
   ],
   "source": [
    "friendship.shape"
   ]
  },
  {
   "cell_type": "markdown",
   "metadata": {},
   "source": [
    "Creating the friendship graph."
   ]
  },
  {
   "cell_type": "code",
   "execution_count": 24,
   "metadata": {
    "collapsed": true
   },
   "outputs": [],
   "source": [
    "friendship_graph = nx.Graph(friendship)"
   ]
  },
  {
   "cell_type": "markdown",
   "metadata": {},
   "source": [
    "## Creating the artist-artist network"
   ]
  },
  {
   "cell_type": "code",
   "execution_count": 25,
   "metadata": {
    "collapsed": true
   },
   "outputs": [],
   "source": [
    "artist_artist_matrix = data.build_art_art()"
   ]
  },
  {
   "cell_type": "markdown",
   "metadata": {},
   "source": [
    "Checking symmetry of the friendship matrix."
   ]
  },
  {
   "cell_type": "code",
   "execution_count": 26,
   "metadata": {},
   "outputs": [
    {
     "data": {
      "text/plain": [
       "(array([], dtype=int64), array([], dtype=int64))"
      ]
     },
     "execution_count": 26,
     "metadata": {},
     "output_type": "execute_result"
    }
   ],
   "source": [
    "np.nonzero(artist_artist_matrix-artist_artist_matrix.transpose())"
   ]
  },
  {
   "cell_type": "code",
   "execution_count": 27,
   "metadata": {},
   "outputs": [
    {
     "data": {
      "text/plain": [
       "(13106, 13106)"
      ]
     },
     "execution_count": 27,
     "metadata": {},
     "output_type": "execute_result"
    }
   ],
   "source": [
    "artist_artist_matrix.shape"
   ]
  },
  {
   "cell_type": "markdown",
   "metadata": {},
   "source": [
    "Creating the artist-artist graph."
   ]
  },
  {
   "cell_type": "code",
   "execution_count": 28,
   "metadata": {
    "collapsed": true
   },
   "outputs": [],
   "source": [
    "artist_artist_graph = nx.Graph(artist_artist_matrix)"
   ]
  },
  {
   "cell_type": "markdown",
   "metadata": {},
   "source": [
    "## Creating the user-artist network"
   ]
  },
  {
   "cell_type": "code",
   "execution_count": 29,
   "metadata": {},
   "outputs": [],
   "source": [
    "user_artist_matrix = data.build_art_user(train_only=False)\n",
    "user_artist_matrix = np.array(user_artist_matrix.T)"
   ]
  },
  {
   "cell_type": "markdown",
   "metadata": {},
   "source": [
    "## Inferring the New User-User Network"
   ]
  },
  {
   "cell_type": "markdown",
   "metadata": {},
   "source": [
    "Using the artist-artist similarity network and the user-artist listening counts, a friendship between users is predicted."
   ]
  },
  {
   "cell_type": "code",
   "execution_count": 30,
   "metadata": {},
   "outputs": [],
   "source": [
    "generated_user_user_matrix = generate_user_user_matrix_from_artist_artist_matrix(user_artist_matrix, artist_artist_matrix)\n",
    "generated_user_user_graph = nx.Graph(generated_user_user_matrix)"
   ]
  },
  {
   "cell_type": "markdown",
   "metadata": {},
   "source": [
    "Now we generate a random network that follows the degree distribution of the artist-artist similarity network."
   ]
  },
  {
   "cell_type": "code",
   "execution_count": 33,
   "metadata": {},
   "outputs": [],
   "source": [
    "artist_artist_random_graph, stub_pairs = greedy_configuration(artist_artist_graph)\n",
    "artist_artist_random_matrix = np.array(csr_matrix.todense(nx.adjacency_matrix(artist_artist_random_graph)))"
   ]
  },
  {
   "cell_type": "markdown",
   "metadata": {},
   "source": [
    "We check whether any stubs left unconnected (we shouldn't have any if the configuration works correctlly)."
   ]
  },
  {
   "cell_type": "code",
   "execution_count": 34,
   "metadata": {},
   "outputs": [
    {
     "data": {
      "text/plain": [
       "0"
      ]
     },
     "execution_count": 34,
     "metadata": {},
     "output_type": "execute_result"
    }
   ],
   "source": [
    "sum(stub_pairs.values()) # should be equal to zero if configuration was successful"
   ]
  },
  {
   "cell_type": "markdown",
   "metadata": {},
   "source": [
    "The generated random artist-artist network is used to predict a new friendship network."
   ]
  },
  {
   "cell_type": "code",
   "execution_count": 35,
   "metadata": {
    "collapsed": true
   },
   "outputs": [],
   "source": [
    "generated_user_user_matrix_from_random_aa = generate_user_user_matrix_from_artist_artist_matrix(user_artist_matrix, artist_artist_random_matrix)\n",
    "generated_user_user_graph_from_random_aa = nx.Graph(generated_user_user_matrix_from_random_aa)"
   ]
  },
  {
   "cell_type": "markdown",
   "metadata": {},
   "source": [
    "At this point we have a friendship network that is generated based on the similarity between artists, and another one generated based on a random artist artist graph. We want to test whether users who tend to listen to similar artist, and hence have similar taste of music are friends in the social network."
   ]
  },
  {
   "cell_type": "code",
   "execution_count": 36,
   "metadata": {},
   "outputs": [
    {
     "data": {
      "text/plain": [
       "22332.0"
      ]
     },
     "execution_count": 36,
     "metadata": {},
     "output_type": "execute_result"
    }
   ],
   "source": [
    "friendship.sum()"
   ]
  },
  {
   "cell_type": "code",
   "execution_count": 38,
   "metadata": {},
   "outputs": [
    {
     "data": {
      "text/plain": [
       "(1747, 1747)"
      ]
     },
     "execution_count": 38,
     "metadata": {},
     "output_type": "execute_result"
    }
   ],
   "source": [
    "generated_user_user_matrix.shape"
   ]
  },
  {
   "cell_type": "code",
   "execution_count": 45,
   "metadata": {},
   "outputs": [
    {
     "name": "stdout",
     "output_type": "stream",
     "text": [
      "The total number of detected links is 6254.\n",
      "The total number of not detected links is 4912.\n",
      "(445740,)\n"
     ]
    },
    {
     "data": {
      "text/plain": [
       "(array([ 416.,  329.,  259.,  235.,  218.,  153.,   74.,   35.,   20.,    8.]),\n",
       " array([   0. ,   90.4,  180.8,  271.2,  361.6,  452. ,  542.4,  632.8,\n",
       "         723.2,  813.6,  904. ]),\n",
       " <a list of 10 Patch objects>)"
      ]
     },
     "execution_count": 45,
     "metadata": {},
     "output_type": "execute_result"
    },
    {
     "data": {
      "image/png": "[encoded data removed]",
      "text/plain": [
       "<matplotlib.figure.Figure at 0x7f01f91cae10>"
      ]
     },
     "metadata": {},
     "output_type": "display_data"
    }
   ],
   "source": [
    "threshold = 0.9999\n",
    "reduced_matrix = np.zeros((generated_user_user_matrix.shape))\n",
    "reduced_matrix[generated_user_user_matrix > threshold] = 1\n",
    "reduced_matrix[generated_user_user_matrix <= threshold] = 0\n",
    "reduced_graph = nx.Graph(reduced_matrix)\n",
    "compare_networks(friendship_graph, reduced_graph)\n",
    "print(generated_user_user_matrix.flatten()[generated_user_user_matrix.flatten() > threshold].shape)\n",
    "plt.hist(list(dict(reduced_graph.degree()).values()), log=True)"
   ]
  },
  {
   "cell_type": "code",
   "execution_count": null,
   "metadata": {
    "collapsed": true
   },
   "outputs": [],
   "source": [
    "plt.hist(list(dict(friendship_graph.degree()).values()), log=True)"
   ]
  },
  {
   "cell_type": "code",
   "execution_count": null,
   "metadata": {
    "collapsed": true
   },
   "outputs": [],
   "source": [
    "threshold = 0.3\n",
    "reduced_matrix[generated_user_user_matrix_from_random_aa > threshold] = 1\n",
    "reduced_matrix[generated_user_user_matrix_from_random_aa <= threshold] = 0\n",
    "reduced_graph = nx.Graph(reduced_matrix)\n",
    "compare_networks(friendship_graph, reduced_graph)\n",
    "print(generated_user_user_matrix_from_random_aa.flatten()[generated_user_user_matrix_from_random_aa.flatten() > threshold].shape)\n",
    "plt.hist(list(dict(reduced_graph.degree()).values()), log=True)"
   ]
  },
  {
   "cell_type": "code",
   "execution_count": null,
   "metadata": {
    "collapsed": true
   },
   "outputs": [],
   "source": []
  }
 ],
 "metadata": {
  "kernelspec": {
   "display_name": "Python [default]",
   "language": "python",
   "name": "python3"
  },
  "language_info": {
   "codemirror_mode": {
    "name": "ipython",
    "version": 3
   },
   "file_extension": ".py",
   "mimetype": "text/x-python",
   "name": "python",
   "nbconvert_exporter": "python",
   "pygments_lexer": "ipython3",
   "version": "3.6.2"
  }
 },
 "nbformat": 4,
 "nbformat_minor": 2
}
